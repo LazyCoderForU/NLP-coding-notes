{
 "cells": [
  {
   "cell_type": "markdown",
   "metadata": {},
   "source": [
    "___\n",
    "\n",
    "<a href='http://www.pieriandata.com'> <img src='../Pierian_Data_Logo.png' /></a>\n",
    "___"
   ]
  },
  {
   "cell_type": "markdown",
   "metadata": {},
   "source": [
    "# Stop Words\n",
    "Words like \"a\" and \"the\" appear so frequently that they don't require tagging as thoroughly as nouns, verbs and modifiers. We call these *stop words*, and they can be filtered from the text to be processed. spaCy holds a built-in list of some 305 English stop words."
   ]
  },
  {
   "cell_type": "code",
   "execution_count": 2,
   "metadata": {},
   "outputs": [],
   "source": [
    "# Perform standard imports:\n",
    "import spacy\n",
    "nlp = spacy.load('en_core_web_sm')"
   ]
  },
  {
   "cell_type": "code",
   "execution_count": 3,
   "metadata": {},
   "outputs": [
    {
     "name": "stdout",
     "output_type": "stream",
     "text": [
      "{'where', 'we', 'does', 'else', '‘re', 'might', 'yours', 'them', 'then', 'whither', 'these', 'this', 'whenever', 'beside', 'noone', 'somewhere', 'very', 'whoever', 'thence', 'once', 'across', 'rather', 'really', 'make', 'between', '’m', 'among', 'few', 'empty', 'hence', 'thereupon', 'may', 'never', 'quite', 'without', 'already', 'i', 'eleven', 'full', 'move', 'less', 'of', 'why', 'back', 'two', 'while', 'or', 'cannot', 'becomes', 'nevertheless', 'others', 'some', 'upon', 'former', 'he', 'about', 'that', '’re', 'should', 'my', 'do', 'latter', 'here', 'it', 'anything', \"'ll\", 'us', 'anyhow', 'am', 'doing', 'front', 'became', 'see', 'same', 'bottom', 'neither', \"'m\", 'perhaps', 'if', 'thus', 'themselves', 'using', 'not', 'are', 'take', 'much', 'amongst', 'six', 'be', 'were', 'anywhere', 'alone', 'nothing', \"'d\", 'whole', 'elsewhere', 'made', 'mine', 'on', 'seems', 'via', 'most', 'amount', 'when', 'therein', 'must', 'being', 'say', 'against', 'moreover', 'ca', 'in', 'any', 'after', 'give', 'latterly', 'indeed', 'hereby', 'besides', 'serious', 'a', 'name', 'as', 'herein', 'hundred', 'what', 'call', 'therefore', 'herself', 'down', 'yourselves', 'all', 'anyway', 'its', 'me', 'ten', 'during', 'now', 'through', 'seeming', 'whereafter', 'have', 'had', \"'ve\", 'however', 'thru', 'with', 'everywhere', 'only', 'his', 'fifteen', 'himself', 'although', 'over', 'part', 'too', 'how', 'many', 'ever', 'she', 'again', 'they', 'show', 'except', 'than', 'at', 'twenty', 'is', 'though', 'been', 'which', 'toward', 'one', 'will', 'unless', 'meanwhile', 'someone', 'various', 'beforehand', 'did', 'beyond', 'none', 'myself', 'last', 'otherwise', '‘ve', 'was', 'whatever', 'would', 'regarding', 'sometime', 'due', 'every', 'own', 'used', 'who', 'done', 'nine', 'hereafter', 'up', 'becoming', 'throughout', 'but', 'an', 'please', 'n‘t', 'from', 'both', 'your', 'our', \"'re\", 'whether', 'everything', 'seemed', 'along', 'because', '‘s', 'twelve', 'often', '’d', 'four', 'around', 'since', 'forty', 'whereas', 'third', 'either', 'has', 'whereupon', 'those', 'three', 'above', 'nowhere', 'yourself', 'something', 'by', 'side', 'well', 'you', 'thereafter', 'for', 'thereby', 'still', 'become', '‘ll', 'everyone', 'mostly', 'get', 'hereupon', 'keep', '‘d', 'within', 'whom', 'her', 'ourselves', 'sometimes', 'behind', 'several', 'the', '‘m', 'onto', \"'s\", 'always', 'no', \"n't\", 'other', 'per', 'towards', 'also', 'ours', 'until', 're', 'next', 'below', 'just', 'even', 'together', 'whence', 'wherein', 'almost', 'more', '’ve', 'so', 'to', 'nobody', 'yet', 'him', 'formerly', '’ll', 'and', 'sixty', 'there', 'somehow', 'wherever', 'off', 'could', 'under', 'whereby', 'whose', 'n’t', 'five', 'eight', 'each', 'hers', 'another', 'can', 'before', 'into', 'further', 'least', '’s', 'enough', 'top', 'itself', 'fifty', 'afterwards', 'first', 'their', 'put', 'namely', 'go', 'out', 'seem', 'such', 'anyone', 'nor'}\n"
     ]
    }
   ],
   "source": [
    "# Print the set of spaCy's default stop words (remember that sets are unordered):\n",
    "print(nlp.Defaults.stop_words)"
   ]
  },
  {
   "cell_type": "code",
   "execution_count": 4,
   "metadata": {},
   "outputs": [
    {
     "data": {
      "text/plain": [
       "326"
      ]
     },
     "execution_count": 4,
     "metadata": {},
     "output_type": "execute_result"
    }
   ],
   "source": [
    "len(nlp.Defaults.stop_words)"
   ]
  },
  {
   "cell_type": "markdown",
   "metadata": {},
   "source": [
    "## To see if a word is a stop word"
   ]
  },
  {
   "cell_type": "code",
   "execution_count": 19,
   "metadata": {},
   "outputs": [
    {
     "data": {
      "text/plain": [
       "True"
      ]
     },
     "execution_count": 19,
     "metadata": {},
     "output_type": "execute_result"
    }
   ],
   "source": [
    "nlp.vocab['done'].is_stop"
   ]
  },
  {
   "cell_type": "code",
   "execution_count": 6,
   "metadata": {},
   "outputs": [
    {
     "data": {
      "text/plain": [
       "False"
      ]
     },
     "execution_count": 6,
     "metadata": {},
     "output_type": "execute_result"
    }
   ],
   "source": [
    "nlp.vocab['mystery'].is_stop"
   ]
  },
  {
   "cell_type": "markdown",
   "metadata": {},
   "source": [
    "## To add a stop word\n",
    "There may be times when you wish to add a stop word to the default set. Perhaps you decide that `'btw'` (common shorthand for \"by the way\") should be considered a stop word."
   ]
  },
  {
   "cell_type": "code",
   "execution_count": 7,
   "metadata": {},
   "outputs": [],
   "source": [
    "# Add the word to the set of stop words. Use lowercase!\n",
    "nlp.Defaults.stop_words.add('btw')\n",
    "\n",
    "# Set the stop_word tag on the lexeme\n",
    "nlp.vocab['btw'].is_stop = True"
   ]
  },
  {
   "cell_type": "code",
   "execution_count": 8,
   "metadata": {},
   "outputs": [
    {
     "data": {
      "text/plain": [
       "327"
      ]
     },
     "execution_count": 8,
     "metadata": {},
     "output_type": "execute_result"
    }
   ],
   "source": [
    "len(nlp.Defaults.stop_words) "
   ]
  },
  {
   "cell_type": "code",
   "execution_count": 9,
   "metadata": {},
   "outputs": [
    {
     "data": {
      "text/plain": [
       "True"
      ]
     },
     "execution_count": 9,
     "metadata": {},
     "output_type": "execute_result"
    }
   ],
   "source": [
    "nlp.vocab['btw'].is_stop "
   ]
  },
  {
   "cell_type": "markdown",
   "metadata": {},
   "source": [
    "<font color=green>When adding stop words, always use lowercase. Lexemes are converted to lowercase before being added to **vocab**.</font>"
   ]
  },
  {
   "cell_type": "markdown",
   "metadata": {},
   "source": [
    "## To remove a stop word\n",
    "Alternatively, you may decide that `'beyond'` should not be considered a stop word.\n",
    "\n",
    "adding or removing word in stop_word means it can output true or false for that word but \n",
    "setting true or false actually make changes for current kernel?"
   ]
  },
  {
   "cell_type": "code",
   "execution_count": 10,
   "metadata": {},
   "outputs": [],
   "source": [
    "# Remove the word from the set of stop words\n",
    "nlp.Defaults.stop_words.remove('beyond')\n",
    "\n",
    "\n",
    "# Remove the stop_word tag from the lexeme\n",
    "nlp.vocab['beyond'].is_stop = False"
   ]
  },
  {
   "cell_type": "code",
   "execution_count": 11,
   "metadata": {},
   "outputs": [
    {
     "data": {
      "text/plain": [
       "326"
      ]
     },
     "execution_count": 11,
     "metadata": {},
     "output_type": "execute_result"
    }
   ],
   "source": [
    "len(nlp.Defaults.stop_words)"
   ]
  },
  {
   "cell_type": "code",
   "execution_count": 12,
   "metadata": {},
   "outputs": [
    {
     "data": {
      "text/plain": [
       "False"
      ]
     },
     "execution_count": 12,
     "metadata": {},
     "output_type": "execute_result"
    }
   ],
   "source": [
    "nlp.vocab['beyond'].is_stop"
   ]
  },
  {
   "cell_type": "markdown",
   "metadata": {},
   "source": [
    "Great! Now you should be able to access spaCy's default set of stop words, and add or remove stop words as needed.\n",
    "## Next up: Vocabulary and Matching"
   ]
  }
 ],
 "metadata": {
  "kernelspec": {
   "display_name": "Python 3 (ipykernel)",
   "language": "python",
   "name": "python3"
  },
  "language_info": {
   "codemirror_mode": {
    "name": "ipython",
    "version": 3
   },
   "file_extension": ".py",
   "mimetype": "text/x-python",
   "name": "python",
   "nbconvert_exporter": "python",
   "pygments_lexer": "ipython3",
   "version": "3.10.0"
  },
  "widgets": {
   "application/vnd.jupyter.widget-state+json": {
    "state": {},
    "version_major": 2,
    "version_minor": 0
   }
  }
 },
 "nbformat": 4,
 "nbformat_minor": 4
}
