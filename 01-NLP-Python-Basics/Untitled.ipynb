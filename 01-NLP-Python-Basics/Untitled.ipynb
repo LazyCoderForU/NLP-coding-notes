{
 "cells": [
  {
   "cell_type": "code",
   "execution_count": 3,
   "id": "776d2e15-6a41-4baf-817e-6ca296676371",
   "metadata": {},
   "outputs": [],
   "source": [
    "import spacy\n",
    "nlp = spacy.load('en_core_web_sm')"
   ]
  },
  {
   "cell_type": "code",
   "execution_count": 28,
   "id": "6575f82a-1cd6-4cae-9f3a-1c188fe5015b",
   "metadata": {},
   "outputs": [],
   "source": [
    "doc = nlp(u'Although commmonly attributed to John Lennon from his song \"Beautiful Boy\". \\\n",
    "the phrase \"Life is what happens to us while we are making other plans\" was written by.  \\\n",
    "cartoonist Allen Saunders and published in Reader\\'s Digest in 1957, when Lennon was 17.')"
   ]
  },
  {
   "cell_type": "code",
   "execution_count": 23,
   "id": "bfca8c18-59ff-4128-bf4f-3abb3afa21e3",
   "metadata": {
    "scrolled": true
   },
   "outputs": [
    {
     "name": "stdout",
     "output_type": "stream",
     "text": [
      "word = Although, meaning = although, and pos = SCONJ,  and fully detailed pos = IN, which means conjunction, subordinating or preposition \n",
      "word = commmonly, meaning = commmonly, and pos = ADV,  and fully detailed pos = RB, which means adverb \n",
      "word = attributed, meaning = attribute, and pos = VERB,  and fully detailed pos = VBN, which means verb, past participle \n",
      "word = to, meaning = to, and pos = ADP,  and fully detailed pos = IN, which means conjunction, subordinating or preposition \n",
      "word = John, meaning = John, and pos = PROPN,  and fully detailed pos = NNP, which means noun, proper singular \n",
      "word = Lennon, meaning = Lennon, and pos = PROPN,  and fully detailed pos = NNP, which means noun, proper singular \n",
      "word = from, meaning = from, and pos = ADP,  and fully detailed pos = IN, which means conjunction, subordinating or preposition \n",
      "word = his, meaning = his, and pos = PRON,  and fully detailed pos = PRP$, which means pronoun, possessive \n",
      "word = song, meaning = song, and pos = NOUN,  and fully detailed pos = NN, which means noun, singular or mass \n",
      "word = \", meaning = \", and pos = PUNCT,  and fully detailed pos = ``, which means opening quotation mark \n",
      "word = Beautiful, meaning = Beautiful, and pos = PROPN,  and fully detailed pos = NNP, which means noun, proper singular \n",
      "word = Boy, meaning = Boy, and pos = PROPN,  and fully detailed pos = NNP, which means noun, proper singular \n",
      "word = \", meaning = \", and pos = PUNCT,  and fully detailed pos = '', which means closing quotation mark \n",
      "word = ,, meaning = ,, and pos = PUNCT,  and fully detailed pos = ,, which means punctuation mark, comma \n",
      "word = the, meaning = the, and pos = DET,  and fully detailed pos = DT, which means determiner \n",
      "word = phrase, meaning = phrase, and pos = NOUN,  and fully detailed pos = NN, which means noun, singular or mass \n",
      "word = \", meaning = \", and pos = PUNCT,  and fully detailed pos = ``, which means opening quotation mark \n",
      "word = Life, meaning = life, and pos = NOUN,  and fully detailed pos = NN, which means noun, singular or mass \n",
      "word = is, meaning = be, and pos = AUX,  and fully detailed pos = VBZ, which means verb, 3rd person singular present \n",
      "word = what, meaning = what, and pos = PRON,  and fully detailed pos = WP, which means wh-pronoun, personal \n",
      "word = happens, meaning = happen, and pos = VERB,  and fully detailed pos = VBZ, which means verb, 3rd person singular present \n",
      "word = to, meaning = to, and pos = ADP,  and fully detailed pos = IN, which means conjunction, subordinating or preposition \n",
      "word = us, meaning = we, and pos = PRON,  and fully detailed pos = PRP, which means pronoun, personal \n",
      "word = while, meaning = while, and pos = SCONJ,  and fully detailed pos = IN, which means conjunction, subordinating or preposition \n",
      "word = we, meaning = we, and pos = PRON,  and fully detailed pos = PRP, which means pronoun, personal \n",
      "word = are, meaning = be, and pos = AUX,  and fully detailed pos = VBP, which means verb, non-3rd person singular present \n",
      "word = making, meaning = make, and pos = VERB,  and fully detailed pos = VBG, which means verb, gerund or present participle \n",
      "word = other, meaning = other, and pos = ADJ,  and fully detailed pos = JJ, which means adjective (English), other noun-modifier (Chinese) \n",
      "word = plans, meaning = plan, and pos = NOUN,  and fully detailed pos = NNS, which means noun, plural \n",
      "word = \", meaning = \", and pos = PUNCT,  and fully detailed pos = '', which means closing quotation mark \n",
      "word = was, meaning = be, and pos = AUX,  and fully detailed pos = VBD, which means verb, past tense \n",
      "word = written, meaning = write, and pos = VERB,  and fully detailed pos = VBN, which means verb, past participle \n",
      "word = by, meaning = by, and pos = ADP,  and fully detailed pos = IN, which means conjunction, subordinating or preposition \n",
      "word = cartoonist, meaning = cartoonist, and pos = NOUN,  and fully detailed pos = NN, which means noun, singular or mass \n",
      "word = Allen, meaning = Allen, and pos = PROPN,  and fully detailed pos = NNP, which means noun, proper singular \n",
      "word = Saunders, meaning = Saunders, and pos = PROPN,  and fully detailed pos = NNPS, which means noun, proper plural \n",
      "word = and, meaning = and, and pos = CCONJ,  and fully detailed pos = CC, which means conjunction, coordinating \n",
      "word = published, meaning = publish, and pos = VERB,  and fully detailed pos = VBN, which means verb, past participle \n",
      "word = in, meaning = in, and pos = ADP,  and fully detailed pos = IN, which means conjunction, subordinating or preposition \n",
      "word = Reader, meaning = Reader, and pos = PROPN,  and fully detailed pos = NNP, which means noun, proper singular \n",
      "word = 's, meaning = 's, and pos = PART,  and fully detailed pos = POS, which means possessive ending \n",
      "word = Digest, meaning = Digest, and pos = PROPN,  and fully detailed pos = NNP, which means noun, proper singular \n",
      "word = in, meaning = in, and pos = ADP,  and fully detailed pos = IN, which means conjunction, subordinating or preposition \n",
      "word = 1957, meaning = 1957, and pos = NUM,  and fully detailed pos = CD, which means cardinal number \n",
      "word = ,, meaning = ,, and pos = PUNCT,  and fully detailed pos = ,, which means punctuation mark, comma \n",
      "word = when, meaning = when, and pos = SCONJ,  and fully detailed pos = WRB, which means wh-adverb \n",
      "word = Lennon, meaning = Lennon, and pos = PROPN,  and fully detailed pos = NNP, which means noun, proper singular \n",
      "word = was, meaning = be, and pos = AUX,  and fully detailed pos = VBD, which means verb, past tense \n",
      "word = 17, meaning = 17, and pos = NUM,  and fully detailed pos = CD, which means cardinal number \n",
      "word = ., meaning = ., and pos = PUNCT,  and fully detailed pos = ., which means punctuation mark, sentence closer \n"
     ]
    }
   ],
   "source": [
    "for token in doc:\n",
    "    print(f'word = {token}, meaning = {token.lemma_}, and pos = {token.pos_},  and fully detailed pos = {token.tag_}, which means {spacy.explain(token.tag_)} ')"
   ]
  },
  {
   "cell_type": "code",
   "execution_count": 26,
   "id": "f7c9671d-1696-428e-994d-9cc809b13512",
   "metadata": {},
   "outputs": [
    {
     "name": "stdout",
     "output_type": "stream",
     "text": [
      "word = John Lennon, meaning = John Lennon,  \n",
      "word = \"Beautiful Boy, meaning = \"Beautiful Boy,  \n",
      "word = Allen Saunders, meaning = Allen Saunders,  \n",
      "word = Reader's Digest, meaning = Reader's Digest,  \n",
      "word = 1957, meaning = 1957,  \n",
      "word = Lennon, meaning = Lennon,  \n",
      "word = 17, meaning = 17,  \n"
     ]
    }
   ],
   "source": [
    "for token in doc.ents:\n",
    "    print(f'word = {token}, meaning = {token.lemma_},  ')"
   ]
  },
  {
   "cell_type": "code",
   "execution_count": 30,
   "id": "94421187-fbda-496a-b7fb-be1627fafe75",
   "metadata": {},
   "outputs": [
    {
     "name": "stdout",
     "output_type": "stream",
     "text": [
      "word = Although commmonly attributed to John Lennon from his song \"Beautiful Boy\"., meaning = although commmonly attribute to John Lennon from his song \"Beautiful Boy\".,\n",
      "word = the phrase \"Life is what happens to us while we are making other plans\" was written by.  , meaning = the phrase \"life be what happen to we while we be make other plan\" be write by.,\n",
      "word = cartoonist Allen Saunders and published in Reader's Digest in 1957, when Lennon was 17., meaning = cartoonist Allen Saunders and publish in Reader's Digest in 1957, when Lennon be 17.,\n"
     ]
    }
   ],
   "source": [
    "for token in doc.sents:\n",
    "    print(f'word = {token}, meaning = {token.lemma_},')"
   ]
  },
  {
   "cell_type": "code",
   "execution_count": 31,
   "id": "c7fc778b-258e-4948-87b9-55c815f0c723",
   "metadata": {},
   "outputs": [
    {
     "name": "stdout",
     "output_type": "stream",
     "text": [
      "word = John Lennon, meaning = John Lennon,\n",
      "word = his song, meaning = his song,\n",
      "word = \"Beautiful Boy, meaning = \"Beautiful Boy,\n",
      "word = the phrase, meaning = the phrase,\n",
      "word = Life, meaning = life,\n",
      "word = what, meaning = what,\n",
      "word = us, meaning = we,\n",
      "word = we, meaning = we,\n",
      "word = other plans, meaning = other plan,\n",
      "word = cartoonist Allen Saunders, meaning = cartoonist Allen Saunders,\n",
      "word = Reader's Digest, meaning = Reader's Digest,\n",
      "word = Lennon, meaning = Lennon,\n"
     ]
    }
   ],
   "source": [
    "for token in doc.noun_chunks:\n",
    "    print(f'word = {token}, meaning = {token.lemma_},')"
   ]
  },
  {
   "cell_type": "code",
   "execution_count": 35,
   "id": "1829dfdf-6176-4c3e-8df0-af7217f16df2",
   "metadata": {},
   "outputs": [],
   "source": [
    "from nltk.stem.porter import PorterStemmer\n",
    "from nltk.stem.snowball import SnowballStemmer\n",
    "porter_stemmer = PorterStemmer()\n",
    "snowball_stemmer = SnowballStemmer(language='english')"
   ]
  },
  {
   "cell_type": "code",
   "execution_count": 69,
   "id": "16484c0a-a3a1-49f2-8b42-23de3e43107d",
   "metadata": {},
   "outputs": [
    {
     "data": {
      "text/plain": [
       "spacy.tokens.doc.Doc"
      ]
     },
     "execution_count": 69,
     "metadata": {},
     "output_type": "execute_result"
    }
   ],
   "source": [
    "import regex as re\n",
    "doc1 = nlp('''once upon a time there brajesh was a kind killed killing a person kills you understand and taj mahal''')\n",
    "type(doc1)"
   ]
  },
  {
   "cell_type": "code",
   "execution_count": 61,
   "id": "413e75ab-79ce-466f-a4a5-06bf83996349",
   "metadata": {},
   "outputs": [
    {
     "name": "stdout",
     "output_type": "stream",
     "text": [
      " once is onc\n",
      " upon is upon\n",
      " a is a\n",
      " time is time\n",
      " there is there\n",
      " was is wa\n",
      " a is a\n",
      " kind is kind\n",
      " killed is kill\n",
      " killing is kill\n",
      " a is a\n",
      " person is person\n",
      " kills is kill\n",
      " you is you\n",
      " understand is understand\n"
     ]
    }
   ],
   "source": [
    "for token in doc1:\n",
    "    print(f' {token} is {porter_stemmer.stem(token.text)}')\n",
    "# stemmer works with token.text not with token "
   ]
  },
  {
   "cell_type": "code",
   "execution_count": 60,
   "id": "3b71e382-85af-489d-8d5d-66e65831b2b3",
   "metadata": {},
   "outputs": [
    {
     "name": "stdout",
     "output_type": "stream",
     "text": [
      " once, onc, once\n",
      " upon, upon, upon\n",
      " a, a, a\n",
      " time, time, time\n",
      " there, there, there\n",
      " was, was, be\n",
      " a, a, a\n",
      " kind, kind, kind\n",
      " killed, kill, kill\n",
      " killing, kill, kill\n",
      " a, a, a\n",
      " person, person, person\n",
      " kills, kill, kill\n",
      " you, you, you\n",
      " understand, understand, understand\n"
     ]
    }
   ],
   "source": [
    "for token in doc1:\n",
    "    print(f' {token}, {snowball_stemmer.stem(token.text)}, {token.lemma_}')\n",
    "# stemmer works with token.text not with token"
   ]
  },
  {
   "cell_type": "code",
   "execution_count": 75,
   "id": "cacea31c-3d98-408d-9edc-848ccff5b7b7",
   "metadata": {},
   "outputs": [
    {
     "data": {
      "text/html": [
       "<span class=\"tex2jax_ignore\"><svg xmlns=\"http://www.w3.org/2000/svg\" xmlns:xlink=\"http://www.w3.org/1999/xlink\" xml:lang=\"en\" id=\"8bf88542476f41adbcf7428ddb0e1e16-0\" class=\"displacy\" width=\"2150\" height=\"487.0\" direction=\"ltr\" style=\"max-width: none; height: 487.0px; color: #000000; background: #ffffff; font-family: Arial; direction: ltr\">\n",
       "<text class=\"displacy-token\" fill=\"currentColor\" text-anchor=\"middle\" y=\"397.0\">\n",
       "    <tspan class=\"displacy-word\" fill=\"currentColor\" x=\"50\">Apple</tspan>\n",
       "    <tspan class=\"displacy-tag\" dy=\"2em\" fill=\"currentColor\" x=\"50\">PROPN</tspan>\n",
       "</text>\n",
       "\n",
       "<text class=\"displacy-token\" fill=\"currentColor\" text-anchor=\"middle\" y=\"397.0\">\n",
       "    <tspan class=\"displacy-word\" fill=\"currentColor\" x=\"225\">is</tspan>\n",
       "    <tspan class=\"displacy-tag\" dy=\"2em\" fill=\"currentColor\" x=\"225\">AUX</tspan>\n",
       "</text>\n",
       "\n",
       "<text class=\"displacy-token\" fill=\"currentColor\" text-anchor=\"middle\" y=\"397.0\">\n",
       "    <tspan class=\"displacy-word\" fill=\"currentColor\" x=\"400\">going</tspan>\n",
       "    <tspan class=\"displacy-tag\" dy=\"2em\" fill=\"currentColor\" x=\"400\">VERB</tspan>\n",
       "</text>\n",
       "\n",
       "<text class=\"displacy-token\" fill=\"currentColor\" text-anchor=\"middle\" y=\"397.0\">\n",
       "    <tspan class=\"displacy-word\" fill=\"currentColor\" x=\"575\">to</tspan>\n",
       "    <tspan class=\"displacy-tag\" dy=\"2em\" fill=\"currentColor\" x=\"575\">PART</tspan>\n",
       "</text>\n",
       "\n",
       "<text class=\"displacy-token\" fill=\"currentColor\" text-anchor=\"middle\" y=\"397.0\">\n",
       "    <tspan class=\"displacy-word\" fill=\"currentColor\" x=\"750\">build</tspan>\n",
       "    <tspan class=\"displacy-tag\" dy=\"2em\" fill=\"currentColor\" x=\"750\">VERB</tspan>\n",
       "</text>\n",
       "\n",
       "<text class=\"displacy-token\" fill=\"currentColor\" text-anchor=\"middle\" y=\"397.0\">\n",
       "    <tspan class=\"displacy-word\" fill=\"currentColor\" x=\"925\">a</tspan>\n",
       "    <tspan class=\"displacy-tag\" dy=\"2em\" fill=\"currentColor\" x=\"925\">DET</tspan>\n",
       "</text>\n",
       "\n",
       "<text class=\"displacy-token\" fill=\"currentColor\" text-anchor=\"middle\" y=\"397.0\">\n",
       "    <tspan class=\"displacy-word\" fill=\"currentColor\" x=\"1100\">U.K.</tspan>\n",
       "    <tspan class=\"displacy-tag\" dy=\"2em\" fill=\"currentColor\" x=\"1100\">PROPN</tspan>\n",
       "</text>\n",
       "\n",
       "<text class=\"displacy-token\" fill=\"currentColor\" text-anchor=\"middle\" y=\"397.0\">\n",
       "    <tspan class=\"displacy-word\" fill=\"currentColor\" x=\"1275\">factory</tspan>\n",
       "    <tspan class=\"displacy-tag\" dy=\"2em\" fill=\"currentColor\" x=\"1275\">NOUN</tspan>\n",
       "</text>\n",
       "\n",
       "<text class=\"displacy-token\" fill=\"currentColor\" text-anchor=\"middle\" y=\"397.0\">\n",
       "    <tspan class=\"displacy-word\" fill=\"currentColor\" x=\"1450\">for</tspan>\n",
       "    <tspan class=\"displacy-tag\" dy=\"2em\" fill=\"currentColor\" x=\"1450\">ADP</tspan>\n",
       "</text>\n",
       "\n",
       "<text class=\"displacy-token\" fill=\"currentColor\" text-anchor=\"middle\" y=\"397.0\">\n",
       "    <tspan class=\"displacy-word\" fill=\"currentColor\" x=\"1625\">$</tspan>\n",
       "    <tspan class=\"displacy-tag\" dy=\"2em\" fill=\"currentColor\" x=\"1625\">SYM</tspan>\n",
       "</text>\n",
       "\n",
       "<text class=\"displacy-token\" fill=\"currentColor\" text-anchor=\"middle\" y=\"397.0\">\n",
       "    <tspan class=\"displacy-word\" fill=\"currentColor\" x=\"1800\">6</tspan>\n",
       "    <tspan class=\"displacy-tag\" dy=\"2em\" fill=\"currentColor\" x=\"1800\">NUM</tspan>\n",
       "</text>\n",
       "\n",
       "<text class=\"displacy-token\" fill=\"currentColor\" text-anchor=\"middle\" y=\"397.0\">\n",
       "    <tspan class=\"displacy-word\" fill=\"currentColor\" x=\"1975\">million.</tspan>\n",
       "    <tspan class=\"displacy-tag\" dy=\"2em\" fill=\"currentColor\" x=\"1975\">NUM</tspan>\n",
       "</text>\n",
       "\n",
       "<g class=\"displacy-arrow\">\n",
       "    <path class=\"displacy-arc\" id=\"arrow-8bf88542476f41adbcf7428ddb0e1e16-0-0\" stroke-width=\"2px\" d=\"M70,352.0 C70,177.0 390.0,177.0 390.0,352.0\" fill=\"none\" stroke=\"currentColor\"/>\n",
       "    <text dy=\"1.25em\" style=\"font-size: 0.8em; letter-spacing: 1px\">\n",
       "        <textPath xlink:href=\"#arrow-8bf88542476f41adbcf7428ddb0e1e16-0-0\" class=\"displacy-label\" startOffset=\"50%\" side=\"left\" fill=\"currentColor\" text-anchor=\"middle\">nsubj</textPath>\n",
       "    </text>\n",
       "    <path class=\"displacy-arrowhead\" d=\"M70,354.0 L62,342.0 78,342.0\" fill=\"currentColor\"/>\n",
       "</g>\n",
       "\n",
       "<g class=\"displacy-arrow\">\n",
       "    <path class=\"displacy-arc\" id=\"arrow-8bf88542476f41adbcf7428ddb0e1e16-0-1\" stroke-width=\"2px\" d=\"M245,352.0 C245,264.5 385.0,264.5 385.0,352.0\" fill=\"none\" stroke=\"currentColor\"/>\n",
       "    <text dy=\"1.25em\" style=\"font-size: 0.8em; letter-spacing: 1px\">\n",
       "        <textPath xlink:href=\"#arrow-8bf88542476f41adbcf7428ddb0e1e16-0-1\" class=\"displacy-label\" startOffset=\"50%\" side=\"left\" fill=\"currentColor\" text-anchor=\"middle\">aux</textPath>\n",
       "    </text>\n",
       "    <path class=\"displacy-arrowhead\" d=\"M245,354.0 L237,342.0 253,342.0\" fill=\"currentColor\"/>\n",
       "</g>\n",
       "\n",
       "<g class=\"displacy-arrow\">\n",
       "    <path class=\"displacy-arc\" id=\"arrow-8bf88542476f41adbcf7428ddb0e1e16-0-2\" stroke-width=\"2px\" d=\"M595,352.0 C595,264.5 735.0,264.5 735.0,352.0\" fill=\"none\" stroke=\"currentColor\"/>\n",
       "    <text dy=\"1.25em\" style=\"font-size: 0.8em; letter-spacing: 1px\">\n",
       "        <textPath xlink:href=\"#arrow-8bf88542476f41adbcf7428ddb0e1e16-0-2\" class=\"displacy-label\" startOffset=\"50%\" side=\"left\" fill=\"currentColor\" text-anchor=\"middle\">aux</textPath>\n",
       "    </text>\n",
       "    <path class=\"displacy-arrowhead\" d=\"M595,354.0 L587,342.0 603,342.0\" fill=\"currentColor\"/>\n",
       "</g>\n",
       "\n",
       "<g class=\"displacy-arrow\">\n",
       "    <path class=\"displacy-arc\" id=\"arrow-8bf88542476f41adbcf7428ddb0e1e16-0-3\" stroke-width=\"2px\" d=\"M420,352.0 C420,177.0 740.0,177.0 740.0,352.0\" fill=\"none\" stroke=\"currentColor\"/>\n",
       "    <text dy=\"1.25em\" style=\"font-size: 0.8em; letter-spacing: 1px\">\n",
       "        <textPath xlink:href=\"#arrow-8bf88542476f41adbcf7428ddb0e1e16-0-3\" class=\"displacy-label\" startOffset=\"50%\" side=\"left\" fill=\"currentColor\" text-anchor=\"middle\">xcomp</textPath>\n",
       "    </text>\n",
       "    <path class=\"displacy-arrowhead\" d=\"M740.0,354.0 L748.0,342.0 732.0,342.0\" fill=\"currentColor\"/>\n",
       "</g>\n",
       "\n",
       "<g class=\"displacy-arrow\">\n",
       "    <path class=\"displacy-arc\" id=\"arrow-8bf88542476f41adbcf7428ddb0e1e16-0-4\" stroke-width=\"2px\" d=\"M945,352.0 C945,177.0 1265.0,177.0 1265.0,352.0\" fill=\"none\" stroke=\"currentColor\"/>\n",
       "    <text dy=\"1.25em\" style=\"font-size: 0.8em; letter-spacing: 1px\">\n",
       "        <textPath xlink:href=\"#arrow-8bf88542476f41adbcf7428ddb0e1e16-0-4\" class=\"displacy-label\" startOffset=\"50%\" side=\"left\" fill=\"currentColor\" text-anchor=\"middle\">det</textPath>\n",
       "    </text>\n",
       "    <path class=\"displacy-arrowhead\" d=\"M945,354.0 L937,342.0 953,342.0\" fill=\"currentColor\"/>\n",
       "</g>\n",
       "\n",
       "<g class=\"displacy-arrow\">\n",
       "    <path class=\"displacy-arc\" id=\"arrow-8bf88542476f41adbcf7428ddb0e1e16-0-5\" stroke-width=\"2px\" d=\"M1120,352.0 C1120,264.5 1260.0,264.5 1260.0,352.0\" fill=\"none\" stroke=\"currentColor\"/>\n",
       "    <text dy=\"1.25em\" style=\"font-size: 0.8em; letter-spacing: 1px\">\n",
       "        <textPath xlink:href=\"#arrow-8bf88542476f41adbcf7428ddb0e1e16-0-5\" class=\"displacy-label\" startOffset=\"50%\" side=\"left\" fill=\"currentColor\" text-anchor=\"middle\">compound</textPath>\n",
       "    </text>\n",
       "    <path class=\"displacy-arrowhead\" d=\"M1120,354.0 L1112,342.0 1128,342.0\" fill=\"currentColor\"/>\n",
       "</g>\n",
       "\n",
       "<g class=\"displacy-arrow\">\n",
       "    <path class=\"displacy-arc\" id=\"arrow-8bf88542476f41adbcf7428ddb0e1e16-0-6\" stroke-width=\"2px\" d=\"M770,352.0 C770,89.5 1270.0,89.5 1270.0,352.0\" fill=\"none\" stroke=\"currentColor\"/>\n",
       "    <text dy=\"1.25em\" style=\"font-size: 0.8em; letter-spacing: 1px\">\n",
       "        <textPath xlink:href=\"#arrow-8bf88542476f41adbcf7428ddb0e1e16-0-6\" class=\"displacy-label\" startOffset=\"50%\" side=\"left\" fill=\"currentColor\" text-anchor=\"middle\">dobj</textPath>\n",
       "    </text>\n",
       "    <path class=\"displacy-arrowhead\" d=\"M1270.0,354.0 L1278.0,342.0 1262.0,342.0\" fill=\"currentColor\"/>\n",
       "</g>\n",
       "\n",
       "<g class=\"displacy-arrow\">\n",
       "    <path class=\"displacy-arc\" id=\"arrow-8bf88542476f41adbcf7428ddb0e1e16-0-7\" stroke-width=\"2px\" d=\"M770,352.0 C770,2.0 1450.0,2.0 1450.0,352.0\" fill=\"none\" stroke=\"currentColor\"/>\n",
       "    <text dy=\"1.25em\" style=\"font-size: 0.8em; letter-spacing: 1px\">\n",
       "        <textPath xlink:href=\"#arrow-8bf88542476f41adbcf7428ddb0e1e16-0-7\" class=\"displacy-label\" startOffset=\"50%\" side=\"left\" fill=\"currentColor\" text-anchor=\"middle\">prep</textPath>\n",
       "    </text>\n",
       "    <path class=\"displacy-arrowhead\" d=\"M1450.0,354.0 L1458.0,342.0 1442.0,342.0\" fill=\"currentColor\"/>\n",
       "</g>\n",
       "\n",
       "<g class=\"displacy-arrow\">\n",
       "    <path class=\"displacy-arc\" id=\"arrow-8bf88542476f41adbcf7428ddb0e1e16-0-8\" stroke-width=\"2px\" d=\"M1645,352.0 C1645,177.0 1965.0,177.0 1965.0,352.0\" fill=\"none\" stroke=\"currentColor\"/>\n",
       "    <text dy=\"1.25em\" style=\"font-size: 0.8em; letter-spacing: 1px\">\n",
       "        <textPath xlink:href=\"#arrow-8bf88542476f41adbcf7428ddb0e1e16-0-8\" class=\"displacy-label\" startOffset=\"50%\" side=\"left\" fill=\"currentColor\" text-anchor=\"middle\">quantmod</textPath>\n",
       "    </text>\n",
       "    <path class=\"displacy-arrowhead\" d=\"M1645,354.0 L1637,342.0 1653,342.0\" fill=\"currentColor\"/>\n",
       "</g>\n",
       "\n",
       "<g class=\"displacy-arrow\">\n",
       "    <path class=\"displacy-arc\" id=\"arrow-8bf88542476f41adbcf7428ddb0e1e16-0-9\" stroke-width=\"2px\" d=\"M1820,352.0 C1820,264.5 1960.0,264.5 1960.0,352.0\" fill=\"none\" stroke=\"currentColor\"/>\n",
       "    <text dy=\"1.25em\" style=\"font-size: 0.8em; letter-spacing: 1px\">\n",
       "        <textPath xlink:href=\"#arrow-8bf88542476f41adbcf7428ddb0e1e16-0-9\" class=\"displacy-label\" startOffset=\"50%\" side=\"left\" fill=\"currentColor\" text-anchor=\"middle\">compound</textPath>\n",
       "    </text>\n",
       "    <path class=\"displacy-arrowhead\" d=\"M1820,354.0 L1812,342.0 1828,342.0\" fill=\"currentColor\"/>\n",
       "</g>\n",
       "\n",
       "<g class=\"displacy-arrow\">\n",
       "    <path class=\"displacy-arc\" id=\"arrow-8bf88542476f41adbcf7428ddb0e1e16-0-10\" stroke-width=\"2px\" d=\"M1470,352.0 C1470,89.5 1970.0,89.5 1970.0,352.0\" fill=\"none\" stroke=\"currentColor\"/>\n",
       "    <text dy=\"1.25em\" style=\"font-size: 0.8em; letter-spacing: 1px\">\n",
       "        <textPath xlink:href=\"#arrow-8bf88542476f41adbcf7428ddb0e1e16-0-10\" class=\"displacy-label\" startOffset=\"50%\" side=\"left\" fill=\"currentColor\" text-anchor=\"middle\">pobj</textPath>\n",
       "    </text>\n",
       "    <path class=\"displacy-arrowhead\" d=\"M1970.0,354.0 L1978.0,342.0 1962.0,342.0\" fill=\"currentColor\"/>\n",
       "</g>\n",
       "</svg></span>"
      ],
      "text/plain": [
       "<IPython.core.display.HTML object>"
      ]
     },
     "metadata": {},
     "output_type": "display_data"
    }
   ],
   "source": [
    "from spacy import displacy\n",
    "doc = nlp(u'Apple is going to build a U.K. factory for $6 million.')\n",
    "displacy.render(doc,style='dep')"
   ]
  },
  {
   "cell_type": "code",
   "execution_count": 73,
   "id": "63b20e73-9f3a-4745-b405-42c91f7cd6f3",
   "metadata": {},
   "outputs": [
    {
     "data": {
      "text/plain": [
       "'Countries, cities, states'"
      ]
     },
     "execution_count": 73,
     "metadata": {},
     "output_type": "execute_result"
    }
   ],
   "source": [
    "spacy.explain('GPE')"
   ]
  },
  {
   "cell_type": "code",
   "execution_count": 77,
   "id": "20263fe1-22f0-40d6-b26b-d58204c9887f",
   "metadata": {},
   "outputs": [
    {
     "ename": "NameError",
     "evalue": "name 'show_lemma' is not defined",
     "output_type": "error",
     "traceback": [
      "\u001b[1;31m---------------------------------------------------------------------------\u001b[0m",
      "\u001b[1;31mNameError\u001b[0m                                 Traceback (most recent call last)",
      "Cell \u001b[1;32mIn[77], line 1\u001b[0m\n\u001b[1;32m----> 1\u001b[0m \u001b[43mshow_lemma\u001b[49m(doc)\n",
      "\u001b[1;31mNameError\u001b[0m: name 'show_lemma' is not defined"
     ]
    }
   ],
   "source": [
    "show_lemma(doc)"
   ]
  },
  {
   "cell_type": "code",
   "execution_count": 79,
   "id": "5382377a-4b78-478b-ad9f-db35969fd671",
   "metadata": {},
   "outputs": [],
   "source": [
    "#nlp.Default is a class \n",
    "nlp.Defaults.stop_words.add('ninja')"
   ]
  },
  {
   "cell_type": "code",
   "execution_count": 81,
   "id": "dbcc488a-a241-49ec-9159-c1339a7987fb",
   "metadata": {},
   "outputs": [
    {
     "data": {
      "text/plain": [
       "False"
      ]
     },
     "execution_count": 81,
     "metadata": {},
     "output_type": "execute_result"
    }
   ],
   "source": [
    "nlp.vocab['ninja1'].is_stop"
   ]
  },
  {
   "cell_type": "code",
   "execution_count": 82,
   "id": "7fe713ab-6e0a-4dc2-8cc7-a0a71df20df9",
   "metadata": {},
   "outputs": [
    {
     "name": "stdout",
     "output_type": "stream",
     "text": [
      "hello world\n"
     ]
    }
   ],
   "source": [
    "print('hello world')"
   ]
  },
  {
   "cell_type": "code",
   "execution_count": 83,
   "id": "4f5afa82-193b-4e7b-9e6b-1b714ae7f88a",
   "metadata": {},
   "outputs": [
    {
     "data": {
      "text/plain": [
       "'as they said these things'"
      ]
     },
     "execution_count": 83,
     "metadata": {},
     "output_type": "execute_result"
    }
   ],
   "source": [
    "'as they said these things'"
   ]
  },
  {
   "cell_type": "code",
   "execution_count": null,
   "id": "cd86cff7-435e-4971-b123-18a80ff9f8aa",
   "metadata": {},
   "outputs": [],
   "source": []
  },
  {
   "cell_type": "code",
   "execution_count": null,
   "id": "55d12e33-e7b3-403e-a9ea-4294852cc035",
   "metadata": {},
   "outputs": [],
   "source": []
  },
  {
   "cell_type": "code",
   "execution_count": null,
   "id": "435825ce-e657-4308-ab74-5bd546ada659",
   "metadata": {},
   "outputs": [],
   "source": []
  },
  {
   "cell_type": "code",
   "execution_count": null,
   "id": "f81b7daf-0935-4347-9fca-f6fa81ab6c5f",
   "metadata": {},
   "outputs": [],
   "source": []
  },
  {
   "cell_type": "code",
   "execution_count": null,
   "id": "9592f7af-b52f-448a-bcd5-90cc25b9e2e8",
   "metadata": {},
   "outputs": [],
   "source": []
  },
  {
   "cell_type": "code",
   "execution_count": null,
   "id": "bf19db70-cba6-4f5c-9bbb-615e0d18312b",
   "metadata": {},
   "outputs": [],
   "source": []
  },
  {
   "cell_type": "code",
   "execution_count": null,
   "id": "088e7dc6-fff5-4ee5-8c9b-a263605dff6d",
   "metadata": {},
   "outputs": [],
   "source": []
  }
 ],
 "metadata": {
  "kernelspec": {
   "display_name": "tf",
   "language": "python",
   "name": "tf"
  },
  "language_info": {
   "codemirror_mode": {
    "name": "ipython",
    "version": 3
   },
   "file_extension": ".py",
   "mimetype": "text/x-python",
   "name": "python",
   "nbconvert_exporter": "python",
   "pygments_lexer": "ipython3",
   "version": "3.9.19"
  },
  "widgets": {
   "application/vnd.jupyter.widget-state+json": {
    "state": {},
    "version_major": 2,
    "version_minor": 0
   }
  }
 },
 "nbformat": 4,
 "nbformat_minor": 5
}
